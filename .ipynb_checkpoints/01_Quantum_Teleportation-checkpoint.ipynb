{
 "cells": [
  {
   "attachments": {
    "entangle_1.jpg": {
     "image/jpeg": "[encoded data removed]"
    }
   },
   "cell_type": "markdown",
   "id": "52b3f502",
   "metadata": {},
   "source": [
    "# Quantum Teleportation Protocol\n",
    "\n",
    "*Quantum Teleportation* is a protocol which makes use of ***quantum entanglement*** between two quantum systems and demonstrates how *quantum communication* can be achieved without some state being transmitted in the usual sense. *Classical communication* is also crucial in this protocol, therefore, this quantum information-based communication is part of the so-called *local operation - classical communication (LOCC)* category, where each party performs local quantum mechanical operations on their respective state and uses classical communication in order to communicate measurement results.\n",
    "\n",
    "![entangle_1.jpg](attachment:entangle_1.jpg)\n",
    "\n",
    "In this protocol, quantum information is received by physically sending classical information. Let us assume we have two parties, commonly seen in bibliography as Alice and Bob, the transmitter and the receiver respectively."
   ]
  },
  {
   "cell_type": "markdown",
   "id": "b55ff47d",
   "metadata": {},
   "source": [
    "First, let us import all necessary objects and methods for quantum circuits using ***qiskit*** library."
   ]
  },
  {
   "cell_type": "code",
   "execution_count": 1,
   "id": "89636629",
   "metadata": {},
   "outputs": [],
   "source": [
    "from qiskit import QuantumRegister, ClassicalRegister, QuantumCircuit, execute, Aer"
   ]
  },
  {
   "cell_type": "markdown",
   "id": "f02bb09b",
   "metadata": {},
   "source": [
    "Next, we import some basic modules whose utility is easily perceived throughout the code."
   ]
  },
  {
   "cell_type": "code",
   "execution_count": 2,
   "id": "c609bd9e",
   "metadata": {},
   "outputs": [],
   "source": [
    "from math import pi, cos, sin\n",
    "from random import randrange\n",
    "import numpy as np"
   ]
  },
  {
   "cell_type": "markdown",
   "id": "e3ca6261",
   "metadata": {},
   "source": [
    "Create a quantum circuit with three qubits and two classical bits. Recall that qiskit uses reverse ordering, so we consider the least significant bit (LSB) to be q[0]."
   ]
  },
  {
   "cell_type": "code",
   "execution_count": 3,
   "id": "1a463d28",
   "metadata": {},
   "outputs": [],
   "source": [
    "q =  QuantumRegister(3, \"q\")  # tag the qubits as q2, q1, q0\n",
    "c1 = ClassicalRegister(1, \"c1\") # tag the classical bits as c1,c2\n",
    "c2 = ClassicalRegister(1, \"c2\")\n",
    "qc = QuantumCircuit(q, c1, c2)"
   ]
  },
  {
   "cell_type": "markdown",
   "id": "53a9d5e4",
   "metadata": {},
   "source": [
    "The first qubit (q[2]) is the *message*, so we have an arbitrary state of the form\n",
    "\n",
    "$$ \\left | \\psi \\right > = a \\left |0 \\right > + b \\left |1 \\right > $$"
   ]
  },
  {
   "cell_type": "markdown",
   "id": "5885bb62",
   "metadata": {},
   "source": [
    "where $ \\left |a \\right |^2 + \\left | b \\right |^2 = 1 $, with $ a,b \\in \\mathbb{C} $ and the *computational basis vectors*\n",
    "\n",
    "$$ \\left |0 \\right > = \\begin{pmatrix} 1 \\\\ 0 \\end{pmatrix}, \\ \\ \\left |1 \\right > = \\begin{pmatrix} 0 \\\\ 1 \\end{pmatrix} $$"
   ]
  },
  {
   "cell_type": "markdown",
   "id": "21b02d14",
   "metadata": {},
   "source": [
    "In *Python*, we can create a *normalized* state of this form by rotating the qubit by some random angle by using the  *RYGate* from *qiskit* with the following custom function, whose inputs consist of a qubit and a quantum circuit:"
   ]
  },
  {
   "cell_type": "code",
   "execution_count": 4,
   "id": "407756a8",
   "metadata": {
    "scrolled": true
   },
   "outputs": [],
   "source": [
    "def random_qubit_state(q, qc):\n",
    "    r = randrange(100)\n",
    "    theta = 2*pi*(r/100)  # radians\n",
    "    print(\"The picked angle is\",r*3.6,\"degrees and\",theta,\"radians\")\n",
    "    a = cos(theta)\n",
    "    b = sin(theta)\n",
    "    print(\"so, the message qubit has amplitudes a =\",round(a, 4),\"and b =\",round(b, 4))\n",
    "    qc.ry(2*theta, q)"
   ]
  },
  {
   "cell_type": "markdown",
   "id": "5092a8ce",
   "metadata": {},
   "source": [
    "More information on RYGate can be found on the qiskit documentation https://qiskit.org/documentation/stubs/qiskit.circuit.library.RYGate.html"
   ]
  },
  {
   "cell_type": "markdown",
   "id": "26e0c370",
   "metadata": {},
   "source": [
    "### Entanglement: Some Information on Circuit Implementation\n",
    "\n",
    "The first step in the protocol involves **entanglement sharing** between Alice's qubit (q[1]) and Bob's qubit (q[0]), assuming top-bottom ordering. This is performed by the *Bell circuit*, i.e a *unitary operator* $U_{Bell}$ constructed by a *Hadamard* $(H)$ and a *controlled-NOT* $(U_{CNOT})$ gate as\n",
    "\n",
    "$$ U_{Bell} = U_{CNOT}(H \\otimes I) $$\n",
    "\n",
    "where $ I $ indicates the *identity operator*. It is easy to see that the action of $U_{Bell}$ in the *4-dimensional* computational basis $ \\{ \\left |00 \\right >, \\left |01 \\right >, \\left |10 \\right >, \\left |11 \\right > \\}$ results in the *Bell states*\n",
    "\n",
    "$$ \\left |\\Phi ^{\\pm} \\right > = \\frac{\\left |00 \\right > \\pm \\left |11 \\right >}{\\sqrt{2}}, \\ \\left |\\Psi ^{\\pm} \\right > = \\frac{\\left |01 \\right > \\pm \\left |10 \\right >}{\\sqrt{2}} $$\n",
    "\n",
    "where the tensor product $ \\left |0 \\right > \\otimes \\left |0 \\right > $ is denoted by $ \\left |00 \\right > $ and so on, for simplicity."
   ]
  },
  {
   "attachments": {
    "bell_00-2.png": {
     "image/png": "[encoded data removed]"
    }
   },
   "cell_type": "markdown",
   "id": "17470482",
   "metadata": {},
   "source": [
    "For the sake of brevity, we assume that Alice's and Bob's qubits are in the definite state $ \\left |0 \\right > $, so we start with the composite system $ \\left |00 \\right > $ and by applying $U_{Bell}$ we get\n",
    "\n",
    "$$ U_{Bell} \\left |00 \\right > = \\left |\\Phi ^{+} \\right > = \\frac{\\left |00 \\right > + \\left |11 \\right >}{\\sqrt{2}} $$\n",
    "\n",
    "and the respective quantum circuit for entanglement is\n",
    "\n",
    "![bell_00-2.png](attachment:bell_00-2.png)\n",
    "\n",
    "The same circuit may be used by starting in one of the other states $ \\left |01 \\right >, \\left |10 \\right > $ or $ \\left |11 \\right > $ and the result will be some Bell state as seen from above."
   ]
  },
  {
   "cell_type": "markdown",
   "id": "08d3dd11",
   "metadata": {},
   "source": [
    "### Teleportation: Step 1 (Entanglement Sharing)\n",
    "\n",
    "Using the information above, the composite system at hand is\n",
    "\n",
    "$$  \\left | \\psi \\right > \\otimes \\left | 0_A0_B \\right > = \\left ( a \\left |0 \\right > + b \\left |1 \\right > \\right ) \\otimes \\left | 0_A0_B \\right > $$\n",
    "\n",
    "and the entangled pair of particles is created by\n",
    "\n",
    "$$ (I \\otimes U_{Bell}) \\left ( \\left | \\psi \\right > \\otimes \\left | 0_A0_B \\right > \\right )= \\left ( a \\left |0 \\right > + b \\left |1 \\right > \\right ) \\otimes \\left ( \\frac{\\left |0_A0_B \\right > + \\left |1_A1_B \\right >}{\\sqrt{2}} \\right ) = \\frac{a \\left( \\left |00_A0_B \\right > + \\left |01_A1_B \\right > \\right ) + b \\left( \\left |10_A0_B \\right > + \\left |11_A1_B \\right > \\right)}{\\sqrt{2}} $$\n",
    "\n",
    "where indexes *A,B* indicate Alice's and Bob's qubits respectively.\n",
    "\n",
    "To create the entangled pair between Alice and Bob, we use the following function with two qubits (*a*, *b*) and a quantum circuit (*qc*) as inputs:"
   ]
  },
  {
   "cell_type": "code",
   "execution_count": 5,
   "id": "07b22c82",
   "metadata": {},
   "outputs": [],
   "source": [
    "def entangle(a, b, qc):\n",
    "    qc.h(a)\n",
    "    qc.cx(a, b)"
   ]
  },
  {
   "cell_type": "markdown",
   "id": "22b0a06c",
   "metadata": {},
   "source": [
    "### Teleportation: Step 2 (Transmitter Applies a CNOT Gate)\n",
    "\n",
    "Now, assume that Alice and Bob are spatially separated by a long distance. Alice applies a CNOT gate, with **control qubit the message and target her own qubit**. Then, we have\n",
    "\n",
    "$$ (U_{CNOT} \\otimes I) \\left ( \\frac{a \\left( \\left |00_A0_B \\right > + \\left |01_A1_B \\right > \\right ) + b \\left( \\left |10_A0_B \\right > + \\left |11_A1_B \\right > \\right)}{\\sqrt{2}} \\right ) $$\n",
    "\n",
    "resulting in\n",
    "\n",
    "$$ \\frac{a (\\left |00_A0_B \\right > + \\left |01_A1_B \\right >) + b(\\left |11_A0_B \\right > + \\left |10_A1_B \\right >)}{\\sqrt{2}} $$"
   ]
  },
  {
   "cell_type": "markdown",
   "id": "d061bdeb",
   "metadata": {},
   "source": [
    "### Teleportation: Step 3 (Transmitter Applies a Hadamard Gate)\n",
    "\n",
    "Next, Alice applies a Hadamard gate **on the message qubit** and the last expression becomes\n",
    "\n",
    "$$ a \\left ( \\frac{\\left | 0 \\right > + \\left | 1 \\right >}{\\sqrt{2}} \\right ) \\otimes \\frac{(\\left |0_A 0_B \\right > +  \\left | 1_A 1_B \\right >)}{\\sqrt{2}} + b \\left ( \\frac{\\left | 0 \\right > - \\left | 1 \\right >}{\\sqrt{2}} \\right )\\otimes \\frac{(\\left |1_A 0_B \\right > +  \\left | 0_A 1_B \\right >)}{\\sqrt{2}} $$\n",
    "\n",
    "resulting in\n",
    "\n",
    "$$ \\frac{1}{2} \\left \\{ a \\left ( \\left |00_A0_B \\right > + \\left |10_A0_B \\right > + \\left |01_A1_B \\right > + \\left |11_A1_B \\right > \\right ) + b \\left ( \\left |01_A0_B \\right > - \\left |11_A0_B \\right > + \\left |00_A1_B \\right > - \\left |10_A1_B \\right > \\right )  \\right \\} $$\n",
    "\n",
    "The above steps involve action by the transmitter (Alice) and this is done by the next function, whose inputs consist of the message qubit (*mes*), Alice's entangled qubit (*q*) and the quantum circuit (*qc*):"
   ]
  },
  {
   "cell_type": "code",
   "execution_count": 6,
   "id": "9f1eff53",
   "metadata": {},
   "outputs": [],
   "source": [
    "def transmitter(mes, q, qc):\n",
    "    qc.cx(mes, q)\n",
    "    qc.h(mes)"
   ]
  },
  {
   "cell_type": "markdown",
   "id": "7090f12c",
   "metadata": {},
   "source": [
    "If we isolate Bob's qubit, we have\n",
    "\n",
    "$$ \\frac{1}{2} \\left | 00_A \\right > \\left ( a \\left |0_B \\right > + b \\left |1_B \\right > \\right ) + \\frac{1}{2} \\left | 01_A \\right > \\left ( a \\left |1_B \\right > + b \\left |0_B \\right > \\right ) + \\frac{1}{2} \\left | 10_A \\right > \\left ( a \\left |0_B \\right > - b \\left |1_B \\right > \\right ) + \\frac{1}{2} \\left | 11_A \\right > \\left ( a \\left |1_B \\right > - b \\left |0_B \\right > \\right ) $$"
   ]
  },
  {
   "cell_type": "markdown",
   "id": "0a1e51c5",
   "metadata": {},
   "source": [
    "### Teleportation: Step 4 (Transmitter Measurement and Classical Communication)\n",
    "\n",
    "The next step for Alice is to **measure** her pair of qubits in the basis $ \\{ \\left |00 \\right >, \\left |01 \\right >, \\left |10 \\right >, \\left |11 \\right > \\}$. It is clear that if Bob knows the measurement result, he can easily reconstruct the message through his qubit. The way this is done is by communicating with Alice through a **classical communication channel**.\n",
    "\n",
    "The following function represents the measurements on Alice's qubits. For this purpose, we will need the message, the entangled qubit, the quantum circuit, as well as the classical registers to store the measurement results:"
   ]
  },
  {
   "cell_type": "code",
   "execution_count": 7,
   "id": "3d2b0204",
   "metadata": {},
   "outputs": [],
   "source": [
    "def measurement(mes, q, qc, c1, c2):\n",
    "    qc.measure(mes, c1)\n",
    "    qc.measure(q, c2)"
   ]
  },
  {
   "cell_type": "markdown",
   "id": "a0bcfe16",
   "metadata": {},
   "source": [
    "### Teleportation: Step 5 (Receiver Action)\n",
    "\n",
    "At last, when Bob knows the measurement result from Alice, he can simply act with some qubit gates and read the message. See that, if Alice measures $ \\left | 00 \\right > $, then Bob has nothing to do with his qubit as it is found in the state $ a \\left |0 \\right > + b \\left |1 \\right > $, which is the initial message. \n",
    "\n",
    "If Alice measures $ \\left | 01 \\right > $, then Bob's state is $ a \\left |1_B \\right > + b \\left |0_B \\right > $ and he only has to act with the Pauli X gate, known as NOT-gate, and reconstruct the initial message as $ X (a \\left |1_B \\right > + b \\left |0_B \\right >) = a \\left |0 \\right > + b \\left |1 \\right > $. \n",
    "\n",
    "If Alice measures $ \\left | 10 \\right > $, then Bob's state is $ a \\left |0_B \\right > - b \\left |1_B \\right > $ and he has to act with the Pauli Z gate and reconstruct the initial message as $ Z (a \\left |0_B \\right > - b \\left |1_B \\right >) = a \\left |0 \\right > + b \\left |1 \\right > $. \n",
    "\n",
    "The last measurement result from Alice is $ \\left | 11 \\right > $, so Bob's state would be $ a \\left |1_B \\right > - b \\left |0_B \\right > $ and in order to reconstruct the initial message, he has to act with the X gate first and the Z gate after, which can be represented by a matrix product as ZX.\n",
    "\n",
    "This can be easily implemented with the following function, where we need the quantum circuit, Bob's qubit and the classical registers to read Alice's measurements:"
   ]
  },
  {
   "cell_type": "code",
   "execution_count": 8,
   "id": "15551884",
   "metadata": {},
   "outputs": [],
   "source": [
    "def receiver(qc, q, c1, c2):\n",
    "    qc.x(q).c_if(c1, 1)\n",
    "    qc.z(q).c_if(c2, 1)"
   ]
  },
  {
   "cell_type": "markdown",
   "id": "bbfd5368",
   "metadata": {},
   "source": [
    "The following code utilizes the above functions to demonstrate the protocol. The *barrier()* method is used in order to separate the steps involved in the protocol."
   ]
  },
  {
   "cell_type": "code",
   "execution_count": 9,
   "id": "0e8090fc",
   "metadata": {},
   "outputs": [
    {
     "name": "stdout",
     "output_type": "stream",
     "text": [
      "The picked angle is 331.2 degrees and 5.7805304826052195 radians\n",
      "so, the message qubit has amplitudes a = 0.8763 and b = -0.4818\n"
     ]
    }
   ],
   "source": [
    "# create a random message\n",
    "random_qubit_state(q[2], qc)\n",
    "qc.barrier()\n",
    "\n",
    "# entangle Alice's and Bob's qubits\n",
    "entangle(q[1], q[0], qc)\n",
    "qc.barrier()\n",
    "\n",
    "# Alice's action\n",
    "transmitter(q[2], q[1], qc)\n",
    "qc.barrier()\n",
    "measurement(q[2], q[1], qc, c2, c1)\n",
    "\n",
    "# Bob's action\n",
    "qc.barrier()\n",
    "receiver(qc, q[0], c1, c2)"
   ]
  },
  {
   "cell_type": "markdown",
   "id": "61fd29e9",
   "metadata": {},
   "source": [
    "Before printing the circuit, we read the output state vector using 'statevector_simulator', as well as the classical outcome sent by Alice in order to verify the results:"
   ]
  },
  {
   "cell_type": "code",
   "execution_count": 10,
   "id": "f75a41d8",
   "metadata": {},
   "outputs": [
    {
     "name": "stdout",
     "output_type": "stream",
     "text": [
      "\n",
      "The state vector is\n",
      "\n",
      "0.0\n",
      "0.0\n",
      "-0.0\n",
      "-0.0\n",
      "0.8763\n",
      "-0.4818\n",
      "0.0\n",
      "-0.0\n",
      "\n",
      "The classical outcome is '10'\n"
     ]
    }
   ],
   "source": [
    "job = execute(qc, Aer.get_backend('statevector_simulator'), optimization_level=0, shots=1)\n",
    "current_quantum_state = job.result().get_statevector()\n",
    "print()\n",
    "print(\"The state vector is\")\n",
    "print()\n",
    "for i in range(len(np.asarray(current_quantum_state))):\n",
    "    print(round(current_quantum_state[i].real, 4))\n",
    "    \n",
    "print()\n",
    "\n",
    "classical_outcomes = ['00','01','10','11']\n",
    "\n",
    "for i in range(4):\n",
    "    if (current_quantum_state[2*i].real != 0) or (current_quantum_state[2*i+1].real != 0):\n",
    "        print(f\"The classical outcome is '{classical_outcomes[i]}'\")"
   ]
  },
  {
   "cell_type": "markdown",
   "id": "94f4718d",
   "metadata": {},
   "source": [
    "We clearly see that the amplitudes of the message qubit correspond to the right position of the output state vector, as indicated by the classical output above."
   ]
  },
  {
   "cell_type": "markdown",
   "id": "7b149e2c",
   "metadata": {},
   "source": [
    "Let us now print the circuit:"
   ]
  },
  {
   "cell_type": "code",
   "execution_count": 11,
   "id": "c0a72113",
   "metadata": {},
   "outputs": [
    {
     "data": {
      "image/png": "[encoded data removed]",
      "text/plain": [
       "<Figure size 1207.22x451.5 with 1 Axes>"
      ]
     },
     "metadata": {},
     "output_type": "display_data"
    }
   ],
   "source": [
    "display(qc.draw(output='mpl', reverse_bits=True))"
   ]
  },
  {
   "cell_type": "markdown",
   "id": "69152f48",
   "metadata": {},
   "source": [
    "## Brief Summary\n",
    "\n",
    " - The protocol uses *three qubits* and *two* classical bits.\n",
    " - With *entanglement*, quantum information is received without sending a quantum system in the usual sense.\n",
    " - Without classical communication, Bob would just end up with a totally random state.\n",
    " - Nothing about the qubit message is communicated over the classical channel, thus security is maintained.\n",
    " - Quantum information is received by physically sending classical information."
   ]
  }
 ],
 "metadata": {
  "kernelspec": {
   "display_name": "quantum_env",
   "language": "python",
   "name": "quantum_env"
  },
  "language_info": {
   "codemirror_mode": {
    "name": "ipython",
    "version": 3
   },
   "file_extension": ".py",
   "mimetype": "text/x-python",
   "name": "python",
   "nbconvert_exporter": "python",
   "pygments_lexer": "ipython3",
   "version": "3.8.10"
  }
 },
 "nbformat": 4,
 "nbformat_minor": 5
}
