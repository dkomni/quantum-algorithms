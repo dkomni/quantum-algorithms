{
 "cells": [
  {
   "cell_type": "markdown",
   "id": "25708a44",
   "metadata": {},
   "source": [
    "# Shor's Algorithm\n",
    "\n",
    "In 1994, mathematician Peter Shor developed a polynomial time quantum algorithm for the factoring problem. It is one of the most remarkable algorithms in quantum computing which combines *quantum Fourier transform*, *phase estimation* and *period finding* algorithms that we describe on notebooks *03,04,05* in detail.\n",
    "\n",
    "The best-known algorithm for integer factorization is of exponential time. The factoring problem comes from the *Fundamental Theorem of Arithmetic*, which states that any integer $N>1$ can be uniquely expressed as a product of one or more *prime numbers*. This lies at the heart of widely used encryption algorithms, the most famous being *Rivest-Shamir-Adleman (RSA)* cryptosystem. Without much detail, RSA picks two prime numbers $p$ and $q$ to construct the number $N=p \\cdot q$ as one of the public keys and utilizes number theory to encrypt some message. If someone can get those two prime numbers, the message can be easily decrypted. However, number $N$ consists of hundreds or thousand digits, so the two primes are large enough for a classical computer to process the information in a reasonable time.\n",
    "\n",
    "<img src=\"./images/cryptography.jpg\" width=\"40%\" align=\"center\">\n",
    "\n",
    "It was already known that factorization can be reduced to order finding algorithm and at the background of Shor's work lies the exponential speed up that comes from the quantum Fourier transform."
   ]
  },
  {
   "cell_type": "markdown",
   "id": "e67783b8",
   "metadata": {},
   "source": [
    "## Setup\n",
    "\n",
    "Shor's algorithm consists of the following steps: (with *gcd* we denote the *greatest common divisor*)\n",
    "\n",
    "- Pick $x$ randomly in the range $1$ to $N-1$, such that $gcd(x,N)=1$ (*relatively prime*)\n",
    "- Use *order finding algorithm* to find order of $x\\pmod{N}$, which will be denoted by $r$.\n",
    "- If $r$ is even and $x^{r/2} \\neq -1 \\pmod{N}$, then compute $gcd(x^{r/2} -1, N)$ and  $gcd(x^{r/2}+1, N)$.\n",
    "- Test to see if one of these is a non-trivial factor. If so return, otherwise the algorithm fails. If that is the case, repeat.\n",
    "\n",
    "Before setting up the algorithm, we give two optional theorems involved for further investigation:\n",
    "\n",
    "<b>Theorem 1</b> Suppose $N$ is an $L$ bit composite number and $x$ is a non-trivial solution to the equation $x^2 \\equiv 1 \\pmod{N}$ in the range $1\\leq x \\leq N$, that is neither $x \\equiv 1 \\pmod{N}$ nor $x \\equiv N-1=-1 \\pmod{N}$. Then at least one of $gcd(x-1,N)$ and $gcd(x+1,N)$ is a non-trivial factor of $N$ that can be computed using $O(L^3)$ operations.\n",
    "\n",
    "<b>Theorem 2</b> Suppose $N={p_1}^{l_1} \\dots {p_m}^{l_m}$ is the prime factorization of an odd composite positive integer. Let $x$ be an integer uniformly chosen at random, such that $0 \\leq x \\leq N-1$ and $x$ is co-prime to $N$. Let $r$ be the order of $x \\pmod{N}$. In such a case,\n",
    "\t\\begin{align*}\n",
    "\tP(\\text{r is even and } {x}^{r/2} \\neq -1 \\pmod{N}) > 1- \\frac{1}{2^{m-1}}.\n",
    "\t\\end{align*}"
   ]
  },
  {
   "cell_type": "markdown",
   "id": "4256b762",
   "metadata": {},
   "source": [
    "### Python Implementation (Cirq)\n",
    "\n",
    "We are ready to use Shor's algorithm and try to factor the number 21.\n",
    "\n",
    "#### Step 1\n",
    "\n",
    "Pick a random $x$ which is relatively prime with 21, i.e $\\gcd(x, 21)$. We will use *random* and *numpy* modules for this."
   ]
  },
  {
   "cell_type": "code",
   "execution_count": 1,
   "id": "79646383",
   "metadata": {},
   "outputs": [],
   "source": [
    "N = 21"
   ]
  },
  {
   "cell_type": "code",
   "execution_count": 2,
   "id": "80102759",
   "metadata": {},
   "outputs": [
    {
     "name": "stdout",
     "output_type": "stream",
     "text": [
      "11  is picked after  1  trials\n"
     ]
    }
   ],
   "source": [
    "import random as rand\n",
    "import numpy as np\n",
    "\n",
    "counter = 0\n",
    "\n",
    "while(True):\n",
    "    x = rand.randrange(1,N)\n",
    "    counter = counter + 1\n",
    "    if np.gcd(x,N) == 1:\n",
    "        break\n",
    "        \n",
    "print(x, \" is picked after \", counter, \" trials\")"
   ]
  },
  {
   "cell_type": "markdown",
   "id": "ce3cb93d",
   "metadata": {},
   "source": [
    "#### Step 2\n",
    "\n",
    "Now, we will use order finding algorithm to find the order of $x \\pmod{N}$. We need to run the *operator.py* and *qpe.py* files as in the previous notebook."
   ]
  },
  {
   "cell_type": "code",
   "execution_count": 3,
   "id": "25f58ac2",
   "metadata": {},
   "outputs": [],
   "source": [
    "run ./include/operator.py"
   ]
  },
  {
   "cell_type": "code",
   "execution_count": 4,
   "id": "ec6b64c6",
   "metadata": {},
   "outputs": [],
   "source": [
    "run ./qpe.py"
   ]
  },
  {
   "cell_type": "markdown",
   "id": "fd8f3b5c",
   "metadata": {},
   "source": [
    "Then, we write the code to find the order of $x \\pmod{N}$."
   ]
  },
  {
   "cell_type": "code",
   "execution_count": 5,
   "id": "59715f18",
   "metadata": {},
   "outputs": [
    {
     "name": "stdout",
     "output_type": "stream",
     "text": [
      "Sample the circuit:\n",
      "measurements: result=11010101010101\n",
      "\n",
      "qubits: (cirq.LineQubit(1),)\n",
      "output vector: (0.5+0.866j)|1⟩\n",
      "\n",
      "qubits: (cirq.LineQubit(2),)\n",
      "output vector: (0.5+0.866j)|1⟩\n",
      "\n",
      "qubits: (cirq.LineQubit(3),)\n",
      "output vector: (0.5+0.866j)|0⟩\n",
      "\n",
      "qubits: (cirq.LineQubit(4),)\n",
      "output vector: (0.5+0.866j)|1⟩\n",
      "\n",
      "qubits: (cirq.LineQubit(5),)\n",
      "output vector: (0.5+0.866j)|0⟩\n",
      "\n",
      "qubits: (cirq.LineQubit(6),)\n",
      "output vector: (0.5+0.866j)|1⟩\n",
      "\n",
      "qubits: (cirq.LineQubit(7),)\n",
      "output vector: (0.5+0.866j)|0⟩\n",
      "\n",
      "qubits: (cirq.LineQubit(8),)\n",
      "output vector: (0.5+0.866j)|1⟩\n",
      "\n",
      "qubits: (cirq.LineQubit(9),)\n",
      "output vector: (0.5+0.866j)|0⟩\n",
      "\n",
      "qubits: (cirq.LineQubit(10),)\n",
      "output vector: (0.5+0.866j)|1⟩\n",
      "\n",
      "qubits: (cirq.LineQubit(11),)\n",
      "output vector: (0.5+0.866j)|0⟩\n",
      "\n",
      "qubits: (cirq.LineQubit(12),)\n",
      "output vector: (0.5+0.866j)|1⟩\n",
      "\n",
      "qubits: (cirq.LineQubit(13),)\n",
      "output vector: (0.5+0.866j)|0⟩\n",
      "\n",
      "qubits: (cirq.LineQubit(14),)\n",
      "output vector: (0.5+0.866j)|1⟩\n",
      "\n",
      "qubits: (cirq.LineQubit(15), cirq.LineQubit(16), cirq.LineQubit(17), cirq.LineQubit(18), cirq.LineQubit(19))\n",
      "output vector: (0.204+0.354j)|00001⟩ + 0.408|00010⟩ + (0.204-0.354j)|00100⟩ + (-0.204-0.354j)|01000⟩ + (-0.204+0.354j)|01011⟩ - 0.408|10000⟩\n",
      "\n",
      "phase:\n",
      "output vector: |⟩\n"
     ]
    }
   ],
   "source": [
    "import matplotlib\n",
    "import cirq\n",
    "import math\n",
    "from cirq.circuits import InsertStrategy\n",
    "\n",
    "L = math.ceil(math.log2(N))\n",
    "e = 0.1\n",
    "num_t = 2*L+1+math.ceil(math.log2(2+1/(2*e)))\n",
    "\n",
    "# create a circuit\n",
    "circuit = cirq.Circuit()\n",
    "\n",
    "# assign the size of the registers\n",
    "t = num_t\n",
    "n = L\n",
    "\n",
    "# create control and target qubits\n",
    "control = [cirq.LineQubit(i) for i in range(1,t+1) ]\n",
    "target = [cirq.LineQubit(i) for i in range(t+1,t+1+n) ]\n",
    "circuit.append(cirq.X(target[n-1]))\n",
    "\n",
    "# create operator CU\n",
    "CU = Ux(x,N)\n",
    "\n",
    "# call phase estimation circuit\n",
    "qpe(t,control, target, circuit, CU)\n",
    "\n",
    "# measure the control register\n",
    "circuit.append(cirq.measure(*control, key='result'))\n",
    "\n",
    "# sample the circuit\n",
    "s = cirq.Simulator()\n",
    "print('Sample the circuit:')\n",
    "samples = s.run(circuit, repetitions=1000)\n",
    "\n",
    "# call the simulator and print the result\n",
    "s = cirq.Simulator()\n",
    "results = s.simulate(circuit)\n",
    "print(results)"
   ]
  },
  {
   "cell_type": "markdown",
   "id": "bce689f5",
   "metadata": {},
   "source": [
    "Let us convert the binary result given by the simulator to its decimal form:"
   ]
  },
  {
   "cell_type": "code",
   "execution_count": 6,
   "id": "377a5dd7",
   "metadata": {},
   "outputs": [
    {
     "name": "stdout",
     "output_type": "stream",
     "text": [
      "13653\n"
     ]
    }
   ],
   "source": [
    "bitstring = results.measurements['result']\n",
    "dec = int(\"\".join(str(i) for i in bitstring), 2)\n",
    "print(dec)"
   ]
  },
  {
   "cell_type": "markdown",
   "id": "c82f848b",
   "metadata": {},
   "source": [
    "Next, we need to use the continued fractions algorithm to find out the order $r$."
   ]
  },
  {
   "cell_type": "code",
   "execution_count": 7,
   "id": "b971f8bb",
   "metadata": {},
   "outputs": [],
   "source": [
    "run ./include/helpers.py"
   ]
  },
  {
   "cell_type": "code",
   "execution_count": 8,
   "id": "b00a60e5",
   "metadata": {},
   "outputs": [
    {
     "name": "stdout",
     "output_type": "stream",
     "text": [
      "[0, 1, 4, 1, 1364, 2]\n",
      "[Fraction(0, 1), Fraction(1, 1), Fraction(4, 5), Fraction(5, 6), Fraction(6824, 8189), Fraction(6829, 8195)]\n"
     ]
    }
   ],
   "source": [
    "coefficients = contFrac(dec/(2**t))\n",
    "print(coefficients)\n",
    "cv = convergents(coefficients)\n",
    "print(cv)"
   ]
  },
  {
   "cell_type": "markdown",
   "id": "50d3ade9",
   "metadata": {},
   "source": [
    "#### Step 3\n",
    "\n",
    "At this point, we check whether $r$ is even and $x^{\\frac{r}{2}} \\neq -1 \\pmod{N}$. We pick only the even numbers from the possible orders given by the convergents above. If those conditions are valid, then we proceed to compute $gcd(x^{r/2} -1, N)$ and  $gcd(x^{r/2}+1, N)$, else we should repeat the algorithm from step 1 by picking some other $x$."
   ]
  },
  {
   "cell_type": "code",
   "execution_count": 11,
   "id": "34a60580",
   "metadata": {},
   "outputs": [
    {
     "name": "stdout",
     "output_type": "stream",
     "text": [
      "Proceed\n"
     ]
    }
   ],
   "source": [
    "r = 6\n",
    "\n",
    "if (r%2 == 0 and (x**(r/2))%N != -1) :\n",
    "    print(\"Proceed\")\n",
    "else:\n",
    "    print(\"Repeat the algorithm\")"
   ]
  },
  {
   "cell_type": "markdown",
   "id": "1b110a77",
   "metadata": {},
   "source": [
    "Notice here that we may have to edit variable $r$ on the above cell based on the convergents found previously."
   ]
  },
  {
   "cell_type": "markdown",
   "id": "6e93ee9f",
   "metadata": {},
   "source": [
    "#### Step 4\n",
    "\n",
    "Compute $\\gcd$: (if Step 3 let us proceed)"
   ]
  },
  {
   "cell_type": "code",
   "execution_count": 12,
   "id": "f75bc649",
   "metadata": {},
   "outputs": [
    {
     "name": "stdout",
     "output_type": "stream",
     "text": [
      "Factors of 21 : 7 and 3\n"
     ]
    }
   ],
   "source": [
    "print(\"Factors of\",N,\":\",np.gcd((x**int(r/2)-1),N), \"and\",np.gcd((x**int(r/2)+1),N))"
   ]
  },
  {
   "cell_type": "markdown",
   "id": "e8f17f43",
   "metadata": {},
   "source": [
    "## Summary & Remarks\n",
    "\n",
    "- After of the aforementioned, we can see that we may not obtain the same results when we run the notebook cells again. This is due to the fact that $x$ is picked randomly in range $[1,N-1]$ such that $\\gcd(x,N)=1$.\n",
    "\n",
    "- One drawback of Shor's algorithm is the runtime for quantum modular exponeniation, which is by far slower than the quantum Fourier transform.\n",
    "\n",
    "- Shor's algorithm can break *assymetric encryption* with twice as many qubits as the key size.\n",
    "\n",
    "- Even with an efficient implementation, Shor's algorithm may not break some of the cryptography standards used in *blockchain* technology, such as *SHA-256* used in *Bitcoin*. The latter standard is theorized to be quantum-resistant up to this time."
   ]
  }
 ],
 "metadata": {
  "kernelspec": {
   "display_name": "quantum_env",
   "language": "python",
   "name": "quantum_env"
  },
  "language_info": {
   "codemirror_mode": {
    "name": "ipython",
    "version": 3
   },
   "file_extension": ".py",
   "mimetype": "text/x-python",
   "name": "python",
   "nbconvert_exporter": "python",
   "pygments_lexer": "ipython3",
   "version": "3.8.10"
  }
 },
 "nbformat": 4,
 "nbformat_minor": 5
}
