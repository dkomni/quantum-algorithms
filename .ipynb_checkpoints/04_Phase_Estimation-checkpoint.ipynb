{
 "cells": [
  {
   "cell_type": "markdown",
   "id": "45db411c",
   "metadata": {},
   "source": [
    "# Phase Estimation Algorithm\n",
    "\n",
    "*Quantum Phase Estimation (QPE)* algorithm in quantum computing demonstrates an application of the *Quantum Fourier Transform (QFT)* which involves *eigenvalues* estimation of some unitary operator $U$. It is one of the most important subroutines in many quantum algorithms including *Order Finding* and *Shor's algorithm*.\n",
    "\n",
    "<img src=\"./images/phase_est.jpg\" width=\"40%\" align=\"center\">"
   ]
  },
  {
   "cell_type": "markdown",
   "id": "3735f6ca",
   "metadata": {},
   "source": [
    "Suppose that a unitary operator $U$ has an eigenvector $ \\left | \\psi \\right > $ with an eigenvalue $ e^{2\\pi i \\phi} $, i.e\n",
    "\n",
    "$$ U \\left | \\psi \\right > = e^{2\\pi i \\phi} \\left | \\psi \\right > $$\n",
    "\n",
    "where $ \\phi \\in [0, 1 ) $ is the parameter to be estimated and $ i = \\sqrt{-1} $ is the imaginary unit.\n",
    "\n",
    "Recall that a unitary operator has eigenvalues $ \\pm 1 $.\n",
    "\n",
    "The powers of the operator $ U $ read\n",
    "\n",
    "$$ U^k \\left | \\psi \\right > = e^{2\\pi i \\phi k} \\left | \\psi \\right > $$\n",
    "\n",
    "where $ k \\in \\mathbb{N}^* $.\n",
    "\n",
    "Let the *controlled-U* operator $CU$, whose effect when the second qubit is in state $ \\left | \\psi \\right > $ is\n",
    "\n",
    "$$ \\begin{align} & CU \\left | 0 \\right > \\left | \\psi \\right > \\rightarrow \\left | 0 \\right > \\left | \\psi \\right > \\\\\n",
    "                 & CU \\left | 1 \\right > \\left | \\psi \\right > \\rightarrow e^{2\\pi i \\phi} \\left | 1 \\right > \\left | \\psi \\right > \\end{align} $$\n",
    "                 \n",
    "With $ \\left | \\cdot \\right > \\left | \\cdot \\right > $ we imply $ \\left | \\cdot \\right > \\otimes \\left | \\cdot \\right > $, where we omit the tensor product symbol for simplicity.\n",
    "                 \n",
    "Also, the $CU$ operator introduces a phase $ e^{2\\pi i \\phi} $ in front of the state $ \\left | 1 \\right > $ when the first qubit is in a superposition of basis states as\n",
    "\n",
    "$$ CU \\left ( \\frac{\\left | 0 \\right > + \\left | 1 \\right >}{\\sqrt{2}} \\right ) \\left | \\psi \\right > = \\frac{\\left | 0 \\right > + e^{2\\pi i \\phi}\\left | 1 \\right >}{\\sqrt{2}}\\left | \\psi \\right > $$\n",
    "\n",
    "For an arbitrary state $ \\left ( a\\left | 0 \\right > + b\\left | 1 \\right > \\right ) \\left | \\psi \\right > $, we get\n",
    "\n",
    "$$ \\left ( a\\left | 0 \\right > + e^{2\\pi i \\phi}b\\left | 1 \\right > \\right ) \\left | \\psi \\right > $$\n",
    "\n",
    "where $ a,b \\in \\mathbb{C} $."
   ]
  },
  {
   "cell_type": "markdown",
   "id": "c4f19474",
   "metadata": {},
   "source": [
    "#### Example: Pauli Operator X\n",
    "\n",
    "Let us see a special case of phase estimation where we will try to find the eigenvalues of $X$ operator.\n",
    "\n",
    "We know that the Pauli operator $ X $ has a matrix representation\n",
    "\n",
    "$$ X = \\begin{pmatrix} 0 & 1 \\\\ 1 & 0 \\end{pmatrix} $$\n",
    "\n",
    "and its action on the computational basis states is\n",
    "\n",
    "$$ \\begin{align} & X \\left | 0 \\right > = \\left | 1 \\right > \\\\\n",
    "                 & X \\left | 1 \\right > = \\left | 0 \\right > \\end{align} $$\n",
    "                 \n",
    "hence, it is also called the $NOT$ operator. It is easy to show that the eigenvalues of this operator are $ \\pm 1 $ and the corresponding eigenvectors read\n",
    "\n",
    "$$ \\left | + \\right > = \\frac{\\left | 0 \\right > + \\left | 1 \\right >}{\\sqrt{2}}, \\ \\left | - \\right > = \\frac{\\left | 0 \\right > - \\left | 1 \\right >}{\\sqrt{2}} $$\n",
    "\n",
    "which consist the *orthonormal basis* known as the *Hadamard basis* (Hadamard operator is the *change-of-basis* matrix from $ \\{\\left | 0 \\right >,\\left | 1 \\right >\\} $ to $ \\{\\left | + \\right >, \\left | - \\right >\\}$ . Therefore,\n",
    "\n",
    "$$ X \\left | + \\right > = +1 \\left | + \\right >, \\ X \\left | - \\right > = -1 \\left | - \\right > $$\n",
    "\n",
    "which means that $ e^{2\\pi i \\phi} = \\pm 1 \\ \\Rightarrow \\ \\phi = 0 \\ \\text{or} \\ \\phi = 1/2 $.\n",
    "\n",
    "The $CX$ operator will introduce a phase in front of $ \\left | 1 \\right > $ as\n",
    "\n",
    "$$ \\begin{align} & CX \\left ( \\frac{\\left | 0 \\right > + \\left | 1 \\right >}{\\sqrt{2}} \\left | + \\right > \\right ) = \\frac{\\left | 00 \\right > + \\left | 01 \\right > + \\left | 10 \\right > + \\left | 11 \\right >}{2} \\\\\n",
    "                 & CX \\left ( \\frac{\\left | 0 \\right > + \\left | 1 \\right >}{\\sqrt{2}} \\left | - \\right > \\right ) = \\frac{\\left | 00 \\right > - \\left | 01 \\right > + \\left | 10 \\right > - \\left | 11 \\right >}{2} \\\\\n",
    "                 \\Rightarrow \\ & CX \\left ( \\frac{\\left | 0 \\right > + \\left | 1 \\right >}{\\sqrt{2}} \\left | \\psi \\right > \\right ) = \\frac{\\left | 0 \\right > + (-1)^x \\left | 1 \\right >}{\\sqrt{2}} \\left | \\psi \\right > \\end{align} $$\n",
    "                 \n",
    "By applying the Hadamard operator on the first qubit, there are two outcomes, $ \\left | 0 \\right > $ or $ \\left | 1 \\right > $ and we can conclude that $ x = 0 $ or $ x = 1 $, thus $ \\phi = 0 $ or $ \\phi = 1/2 $."
   ]
  },
  {
   "cell_type": "markdown",
   "id": "6ffed9d2",
   "metadata": {},
   "source": [
    "### The Algorithm (QPE)\n",
    "\n",
    "For the phase estimation algorithm, we are going to need two registers, where the first contains $t$ qubits in state $ \\left | 0 \\right > $ and the second contains $ \\left | \\psi \\right > $.\n",
    "\n",
    "$t$ depends on the number of digits of accuracy and the probability of success when estimating $ \\phi $.\n",
    "\n",
    "Also, suppose that we are given *controlled*-$U^{2^j}$ operators as *black-boxes* and the qubits of the first register are numbered from $1$ to $t$.\n",
    "\n",
    "The input state is thus $ \\left | 0 \\right >^{\\otimes t} \\left | \\psi \\right > $.\n",
    "\n",
    "#### Step 1\n",
    "\n",
    "First, we apply Hadamard to all the qubits in the first register, that is\n",
    "\n",
    "$$ \\begin{align} & H^{\\otimes t} \\left | 0 \\right >^{\\otimes t} \\left | \\psi \\right > \\\\\n",
    "                \\Rightarrow \\ & \\frac{1}{2^{t/2}} (\\left | 0 \\right > + \\left | 1 \\right >)^{\\otimes t} \\left | \\psi \\right > \\end{align} $$\n",
    "                \n",
    "#### Step 2\n",
    "\n",
    "Next, we apply $CU^{2^j}$ gate where qubit $ \\left | \\psi \\right > $ is the target and qubit $t-j$ is the controller for $j=0,1,\\dots,t-1$, consequtively:\n",
    "\n",
    " - $ j = 0 $: $ \\ \\ \\ \\frac{1}{2^{t/2}} (\\left | 0 \\right > + \\left | 1 \\right >)^{\\otimes t-1} (\\left | 0 \\right > + e^{2\\pi i \\phi 2^0} \\left | 1 \\right >) \\left | \\psi \\right > $\n",
    " \n",
    " - $ j = 1 $: $ \\ \\ \\ \\frac{1}{2^{t/2}} (\\left | 0 \\right > + \\left | 1 \\right >)^{\\otimes t-2} (\\left | 0 \\right > + e^{2\\pi i \\phi 2^1} \\left | 1 \\right >) (\\left | 0 \\right > + e^{2\\pi i \\phi 2^0} \\left | 1 \\right >) \\left | \\psi \\right > $\n",
    " \n",
    " - $ \\dots $\n",
    " \n",
    " - $ j = t-1 $: $ \\ \\ \\ \\frac{1}{2^{t/2}} (\\left | 0 \\right > + e^{2\\pi i \\phi 2^{t-1}} \\left | 1 \\right >) \\otimes \\dots \\otimes (\\left | 0 \\right > + e^{2\\pi i \\phi 2^1} \\left | 1 \\right >) (\\left | 0 \\right > + e^{2\\pi i \\phi 2^0} \\left | 1 \\right >) \\left | \\psi \\right > $\n",
    " \n",
    "At this point, $\\psi$ is encoded into the phase of state $ \\left | 1 \\right > $ for each one of the qubits in the first register.\n",
    "\n",
    "##### Some Algebra\n",
    "\n",
    "Let us work some algebra now for better formulation. The state after **Step 2** is\n",
    "\n",
    "$$ \\begin{align}\n",
    "   & \\frac{1}{2^{t/2}} \\bigotimes_{l=1}^{t} (\\left | 0 \\right > + e^{2\\pi i \\phi 2^{t-l}} \\left | 1 \\right >)\\left | \\psi \\right > \\\\\n",
    "   = \\ & \\frac{1}{2^{t/2}} \\bigotimes_{l=1}^{t} \\sum_{k_l = 0}^{1} e^{2\\pi i k_l \\phi 2^{t-l}} \\left | k_l \\right > \\left | \\psi \\right > \\ \\ \\ \\ \\ \\ \\ \\ \\textit{superposition as a sum of terms} \\\\\n",
    "   = \\ & \\frac{1}{2^{t/2}} \\sum_{k_1,\\dots,k_t \\in \\{0,1\\}} e^{2\\pi i (\\sum_{l = 1}^{t} 2^{t-l} k_l) \\phi} \\left | k_1\\dots k_t \\right > \\left | \\psi \\right > \\ \\ \\ \\ \\ \\ \\textit{expand the tensor product} \\\\\n",
    "   = \\ & \\frac{1}{2^{t/2}} \\sum_{k = 0}^{2^t - 1} e^{2\\pi i k \\phi} \\left | k \\right > \\left | \\psi \\right > \\ \\ \\ \\ \\ \\ \\ \\ \\textit{binary to decimal representation}\n",
    "   \\end{align}\n",
    "$$\n",
    "\n",
    "#### Step 3\n",
    "\n",
    " - If $ \\phi $ is of the form $ \\frac{x}{N} $ for some $ x $ and $ N = 2^t $, or equivalently, if $ \\phi $ can be expressed using exactly $ t $ bits as $ \\phi = \\frac{\\phi_1 \\dots \\phi_t}{N} $, then we can express the state of the first register as $$ \\frac{1}{2^{t/2}} \\sum_{k = 0}^{2^t - 1} e^{\\frac{2\\pi i k x}{N}} \\left | k \\right > $$\n",
    " \n",
    "This is exactly the *Quantum Fourier Transform (QFT)* ! Hence, if we apply the *inverse-QFT (IQFT)*, we exactly measure \n",
    "\n",
    "$$ \\left | x \\right > \\left | \\psi \\right > = \\left | \\phi_1 \\dots \\phi_t \\right > \\left | \\psi \\right > $$\n",
    "\n",
    "and by dividing the measurement result by $2^t$, we get $\\phi$ !\n",
    "\n",
    " - If $ \\phi $ is not of the form $ \\frac{x}{N} $, then we can choose $$ t = n + \\left \\lceil \\log \\left (2 + \\frac{1}{2\\varepsilon} \\right) \\right \\rceil $$ \n",
    " \n",
    "with $ \\varepsilon \\rightarrow 0 $ and we can still approximate $ \\phi $ accurate to $ n $ bits with probability of success $ \\Omega(1-\\varepsilon) $. One can refer to various bibliography and see how these numbers come up."
   ]
  },
  {
   "cell_type": "markdown",
   "id": "2f4a73fc",
   "metadata": {},
   "source": [
    "The overall implementation as a quantum circuit for the QPE algorithm is shown below:\n",
    "\n",
    "<img src=\"./images/phase.png\" width=\"60%\" align=\"center\">"
   ]
  },
  {
   "cell_type": "markdown",
   "id": "83ca9e28",
   "metadata": {},
   "source": [
    "### Python Implementation (Cirq)\n",
    "\n",
    "Now, we are ready to write a program for QPE using ***cirq***. First, let us import the main modules needed for implementation, as well as the ***iqft()*** function we exported from the previous notebook."
   ]
  },
  {
   "cell_type": "code",
   "execution_count": 1,
   "id": "d3c0c8d0",
   "metadata": {},
   "outputs": [],
   "source": [
    "import cirq\n",
    "from cirq import X, H, SWAP, CZPowGate # CZPowGate for implementing CRk for QFT and CU for QPE\n",
    "from cirq.circuits import InsertStrategy"
   ]
  },
  {
   "cell_type": "markdown",
   "id": "43d04cd6",
   "metadata": {},
   "source": [
    "Also, we will write the ***qpe()*** function in this directory, as it is needed for *Order Finding* and *Shor's algorithm* in the next notebooks. The function that implements *quantum phase estimation* is shown below. The inputs consist of the number of qubits ($t$) in the control register, the $control$ qubits, the $target$(eigenvector) qubits, a *cirq* quantum circuit and the $CU$ operator."
   ]
  },
  {
   "cell_type": "code",
   "execution_count": 2,
   "id": "cde944fa",
   "metadata": {},
   "outputs": [],
   "source": [
    "#%%writefile qpe.py\n",
    "import cirq\n",
    "from cirq.circuits import InsertStrategy\n",
    "from iqft import iqft\n",
    "\n",
    "def qpe(t, control, target, circuit, CU):\n",
    "    \n",
    "    # Apply Hadamard to the control qubits\n",
    "    circuit.append(cirq.H.on_each(control))\n",
    "    \n",
    "    # Apply CU gates\n",
    "    for j in range(t):\n",
    "        # Obtain the power of CU gate \n",
    "        CUj = CU**(2**j)\n",
    "        # Apply CUj gate where t-j-1 is the control\n",
    "        circuit.append(CUj(control[t-j-1], *target), strategy = InsertStrategy.NEW)\n",
    "        \n",
    "    # Apply IQFT\n",
    "    iqft(t, control, circuit)"
   ]
  },
  {
   "cell_type": "markdown",
   "id": "245205dd",
   "metadata": {},
   "source": [
    "### Some Applications\n",
    "\n",
    "#### Example 1\n",
    "Consider the unitary operator $U$ with eigenvector $ \\left | 1 \\right > $ and eigenvalue $ e^{2 \\pi i \\phi} $, where $ \\phi = 0.685 $. Let us see how QPE estimates this $ \\phi $ by trying the values of $t$ from $1$ up to $10$:"
   ]
  },
  {
   "cell_type": "code",
   "execution_count": 3,
   "id": "9fd57820",
   "metadata": {},
   "outputs": [
    {
     "name": "stdout",
     "output_type": "stream",
     "text": [
      "t =  1 with estimation: 0.0\n",
      "t =  2 with estimation: 0.75\n",
      "t =  3 with estimation: 0.75\n",
      "t =  4 with estimation: 0.75\n",
      "t =  5 with estimation: 0.6875\n",
      "t =  6 with estimation: 0.6875\n",
      "t =  7 with estimation: 0.6875\n",
      "t =  8 with estimation: 0.6875\n",
      "t =  9 with estimation: 0.685546875\n",
      "t =  10 with estimation: 0.6845703125\n"
     ]
    }
   ],
   "source": [
    "# implement CU operator with given phase (to be estimated)\n",
    "phi = 0.685\n",
    "CU = CZPowGate(exponent=2*phi) # we need a 2 because CZPowGate adds a phase of e^{\\pi i \\phi}\n",
    "\n",
    "for t in range(1, 11):\n",
    "    \n",
    "    n = 1  # the number of qubits for the eigenvector\n",
    "    \n",
    "    # create t qubits (control register) x_0 to x_t-1\n",
    "    control = [ cirq.LineQubit(i) for i in range(t) ]\n",
    "    # create eigenvector qubit (target register) x_t\n",
    "    target = [ cirq.LineQubit(i) for i in range(t, t+n) ]\n",
    "\n",
    "    # define the quantum circuit\n",
    "    circuit = cirq.Circuit()\n",
    "\n",
    "    # set eigenvector to state |1>\n",
    "    circuit.append(X.on_each(target), strategy = InsertStrategy.NEW)\n",
    "\n",
    "    # apply QPE\n",
    "    qpe(t, control, target, circuit, CU)\n",
    "\n",
    "    # measure the control register\n",
    "    circuit.append(cirq.measure(*control, key='result'))\n",
    "\n",
    "    # simulate the circuit\n",
    "    s = cirq.Simulator()\n",
    "    samples = s.run(circuit, repetitions=1000)\n",
    "    \n",
    "    # most frequent observation\n",
    "    freq = list(samples.histogram(key='result').keys())[0]\n",
    "    print(\"t = \", t, \"with estimation:\", freq/2**t)"
   ]
  },
  {
   "cell_type": "markdown",
   "id": "14e9378a",
   "metadata": {},
   "source": [
    "We clearly see that for $t>=4$ the accuracy increases, as $t$ gets precise enough."
   ]
  },
  {
   "cell_type": "markdown",
   "id": "8ac1d205",
   "metadata": {},
   "source": [
    "#### Example 2\n",
    "\n",
    "Consider the $T$-gate with matrix representation\n",
    "\n",
    "$$ T = \\begin{pmatrix} 1 & 0 \\\\ 0 & e^{\\frac{i\\pi}{4}} \\end{pmatrix} $$\n",
    "\n",
    "which adds a phase of $ e^{\\frac{i\\pi}{4}} $ to the state $ \\left | 1 \\right > $, that is\n",
    "\n",
    "$$ T\\left | 1 \\right > = e^{\\frac{i\\pi}{4}} \\left | 1 \\right > $$\n",
    "\n",
    "We expect QPE to give us $ \\phi = \\frac{1}{8} $, since $ T\\left | 1 \\right > = e^{2\\pi i \\phi} \\left | 1 \\right > $."
   ]
  },
  {
   "cell_type": "code",
   "execution_count": 4,
   "id": "1270fd0a",
   "metadata": {},
   "outputs": [
    {
     "name": "stdout",
     "output_type": "stream",
     "text": [
      "t =  1 with estimation: 0.0\n",
      "t =  2 with estimation: 0.25\n",
      "t =  3 with estimation: 0.125\n",
      "t =  4 with estimation: 0.125\n",
      "t =  5 with estimation: 0.125\n",
      "t =  6 with estimation: 0.125\n",
      "t =  7 with estimation: 0.125\n",
      "t =  8 with estimation: 0.125\n",
      "t =  9 with estimation: 0.125\n",
      "t =  10 with estimation: 0.125\n"
     ]
    }
   ],
   "source": [
    "# T-gate is the fourth root of Z gate\n",
    "T = cirq.Z**0.25\n",
    "# define the controlled-T gate as CU\n",
    "CU = T.controlled()\n",
    "\n",
    "for t in range(1, 11):\n",
    "    \n",
    "    n = 1  # the number of qubits for the eigenvector\n",
    "    \n",
    "    # create t qubits (control register) x_0 to x_t-1\n",
    "    control = [ cirq.LineQubit(i) for i in range(t) ]\n",
    "    # create eigenvector qubit (target register) x_t\n",
    "    target = [ cirq.LineQubit(i) for i in range(t, t+n) ]\n",
    "\n",
    "    # define the quantum circuit\n",
    "    circuit = cirq.Circuit()\n",
    "\n",
    "    # set eigenvector to state |1>\n",
    "    circuit.append(X.on_each(target), strategy = InsertStrategy.NEW)\n",
    "\n",
    "    # apply QPE\n",
    "    qpe(t, control, target, circuit, CU)\n",
    "\n",
    "    # measure the control register\n",
    "    circuit.append(cirq.measure(*control, key='result'))\n",
    "\n",
    "    # simulate the circuit\n",
    "    s = cirq.Simulator()\n",
    "    samples = s.run(circuit, repetitions=1000)\n",
    "    \n",
    "    # most frequent observation\n",
    "    freq = list(samples.histogram(key='result').keys())[0]\n",
    "    print(\"t = \", t, \"with estimation:\", freq/2**t)"
   ]
  },
  {
   "cell_type": "markdown",
   "id": "71f90bd1",
   "metadata": {},
   "source": [
    "For $t \\geq 3$ we get the exact result, as the precision $t$ is high enough !"
   ]
  },
  {
   "cell_type": "markdown",
   "id": "b056af94",
   "metadata": {},
   "source": [
    "## Summary\n",
    "\n",
    " - QPE uses *phase kickback* to embed the phase of the unitary $U$ in the Fourier basis to the $t$ controller qubits. By using the inverse QFT, we can translate this into the computational basis, which we can measure.\n",
    " - Because of QFT plus the $t$ Hadamard gates in the beggining, the algorithm needs $ O(t^2) $ gates and $t$ calls to the $ CU^{2^j} $ black-box.\n",
    " - If we take any arbitrary state instead of an eigenvector $ \\left | \\psi \\right > $, then we will obtain an approximation to one of the eigenvalues with some probability, due to the fact that any quantum state can be expressed as a linear combination of eigenvectors (one of the *postulates of quantum mechanics*).\n",
    " - QPE is a vital building block for ***Order Finding*** and ***Shor's algorithm***."
   ]
  }
 ],
 "metadata": {
  "kernelspec": {
   "display_name": "quantum_env",
   "language": "python",
   "name": "quantum_env"
  },
  "language_info": {
   "codemirror_mode": {
    "name": "ipython",
    "version": 3
   },
   "file_extension": ".py",
   "mimetype": "text/x-python",
   "name": "python",
   "nbconvert_exporter": "python",
   "pygments_lexer": "ipython3",
   "version": "3.8.10"
  }
 },
 "nbformat": 4,
 "nbformat_minor": 5
}
