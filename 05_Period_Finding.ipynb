{
 "cells": [
  {
   "cell_type": "markdown",
   "id": "f9013f76",
   "metadata": {},
   "source": [
    "# Period Finding Algorithm\n",
    "\n",
    "*Order Finding* or *Period Finding* refers to *order* computation in *modular arithmetic*, a basic subject in *Number Theory*. No classical algorithm which solves this problem using resources polynomial in $O(L)$ is known, where $L=\\lceil \\log_2 N \\rceil$ is the number of bits needed to encode a number $N$. However, this problem can be efficiently solved using *Phase Estimation* algorithm and *quantum mechanics* !"
   ]
  },
  {
   "cell_type": "markdown",
   "id": "1dc571f7",
   "metadata": {},
   "source": [
    "Before diving into the algorithm, let us give two main definitions of interest from *Number Theory*.\n",
    "\n",
    "##### Def. (Congruence Modulo N)\n",
    "Let $a,b \\in \\mathbb{Z}$ and $N > 0, \\ N \\in \\mathbb{Z}$. Integers $a$ and $b$ are said to be ***congruent modulo N***, if and only if $N$ divides their *difference*, that is\n",
    "\n",
    "$$ a \\equiv b \\pmod{N} \\ \\Leftrightarrow \\ N \\mid a-b $$\n",
    "\n",
    "where division implies *zero* as a *remainder*. This expression is called a ***congruence relation***.\n",
    "\n",
    "##### Def. (Order of an Integer)\n",
    "Let $ x \\in \\mathbb{Z} $ and $N > 0, \\ N \\in \\mathbb{Z}$. The ***order*** of $x \\pmod{N} $ is the least $r > 0, \\ r \\in \\mathbb{Z}$, such that\n",
    "\n",
    "$$ x^r \\equiv 1 \\pmod{N} $$"
   ]
  },
  {
   "cell_type": "markdown",
   "id": "8f0dee67",
   "metadata": {},
   "source": [
    "In *order finding algorithm*, given $x$ and $N$, the goal is to find $r$. Let us work out an example with brute-force.\n",
    "\n",
    "#### Example (Order Finding)\n",
    "Let $x=5$ and $N=21$. Then:\n",
    "\n",
    "$$ \\begin{align} & 5^1 \\equiv 5 \\pmod{21} \\\\\n",
    "                 & 5^2 \\equiv 4 \\pmod{21} \\\\\n",
    "                 & 5^3 \\equiv 5^2 \\cdot 5^1 = 20 \\pmod{21} \\\\\n",
    "                 & 5^4 \\equiv 5^2 \\cdot 5^2 = 16 \\pmod{21} \\\\\n",
    "                 & 5^5 \\equiv 5^3 \\cdot 5^2 = 80 \\equiv 17 \\pmod{21} \\\\\n",
    "                 & 5^6 \\equiv 5^2 \\cdot 5^4 = 64 \\equiv 1 \\pmod{21}\n",
    "\\end{align} $$\n",
    "\n",
    "So, for $x=5$ and $N=21$, the order is $r=6$.\n",
    "\n",
    "One may observe that if we continue the calculations, we would have a periodic behavior, meaning that $ 5^7 \\equiv 5, \\ 5^8 \\equiv 4, \\ 5^9 \\equiv 20, \\ \\dots \\ , 5^{12} \\equiv 1 \\pmod{21} $. Let us plot $ x^i \\pmod{N} $ for $i=0,1,...,30$ using *matplotlib* with Python."
   ]
  },
  {
   "cell_type": "code",
   "execution_count": 1,
   "id": "c8e23003",
   "metadata": {},
   "outputs": [
    {
     "data": {
      "image/png": "[encoded data removed]",
      "text/plain": [
       "<Figure size 300x300 with 1 Axes>"
      ]
     },
     "metadata": {},
     "output_type": "display_data"
    }
   ],
   "source": [
    "import matplotlib.pyplot as plt\n",
    "\n",
    "# create an empty list\n",
    "l = []\n",
    "x = 5\n",
    "N = 21\n",
    "\n",
    "# append x^i mod N values\n",
    "for i in range(31):\n",
    "    l.append((x**i) % N)\n",
    "\n",
    "plt.figure(figsize=(3,3))\n",
    "plt.plot(l)\n",
    "plt.show()"
   ]
  },
  {
   "cell_type": "markdown",
   "id": "9a14f6d9",
   "metadata": {},
   "source": [
    "The periodic behavior can be clearly seen from the graph above. Along with *Quantum Fourier Transform (QFT)* and *Quantum Phase Estimation (QPE)*, *period finding* is a vital building block for *Shor's algorithm*, used to find the prime factors of a large integer. More details on Shor's algorithm in notebook *06_Shors_Algorithm*."
   ]
  },
  {
   "cell_type": "markdown",
   "id": "37d33c58",
   "metadata": {},
   "source": [
    "## Idea\n",
    "\n",
    "Let $ x < N $ be given. The idea is to apply *phase estimation* to the operator $U_x$ which maps\n",
    "\n",
    "$$ U_x \\left | y \\right > = \\left | xy {\\pmod{N}} \\right > $$\n",
    "\n",
    "where $ y \\in \\{0,1\\}^L $ and $ 0 \\leq y \\leq N-1 $. We also assume that $ U_x \\left | y \\right > = \\left | y \\right > $, if $ N \\leq y \\leq 2^L - 1 $.\n",
    "\n",
    "Let $ \\left | \\psi_0 \\right > = \\left | 1 {\\pmod{N}} \\right > + \\left | x {\\pmod{N}} \\right > + \\left | x^2{\\pmod{N}} \\right > + \\dots + \\left | x^{r-1} {\\pmod{N}} \\right > $, where $r$ is the order of $x$. Then:\n",
    "\n",
    "$$ U_x \\left | \\psi_0 \\right > = \\left | x {\\pmod{N}} \\right > + \\left | x^2{\\pmod{N}} \\right > + \\dots + \\left | 1 {\\pmod{N}} \\right > $$\n",
    "\n",
    "because $ x^r \\equiv 1 \\pmod{N} $.\n",
    "\n",
    "So, $ U_x \\left | \\psi_0 \\right > = \\left | \\psi_0 \\right > $, meaning that $ \\left | \\psi_0 \\right > $ is an eigenvector of $ U_x $ with eigenvalue $ +1 $."
   ]
  },
  {
   "cell_type": "markdown",
   "id": "8696a314",
   "metadata": {},
   "source": [
    "Now, let $ \\left | \\psi_1 \\right > = \\left | 1 {\\pmod{N}} \\right > + \\omega^{-1} \\left | x {\\pmod{N}} \\right > + \\omega^{-2} \\left | x^2{\\pmod{N}} \\right > + \\dots + \\omega^{-(r-1)} \\left | x^{r-1} {\\pmod{N}} \\right > $\n",
    "\n",
    "where $ \\omega = e^{-\\frac{2\\pi i}{r}} $. Then:\n",
    "\n",
    "$$ U_x \\left | \\psi_1 \\right > = \\left | x {\\pmod{N}} \\right > + \\omega^{-1} \\left | x^2 {\\pmod{N}} \\right > + \\omega^{-2} \\left | x^3{\\pmod{N}} \\right > + \\dots + \\omega^{-(r-1)} \\left | 1 {\\pmod{N}} \\right > = \\omega \\left | \\psi_1 \\right > $$\n",
    "\n",
    "So, $ U_x \\left | \\psi_1 \\right > = \\omega \\left | \\psi_1 \\right > $, meaning that $ \\left | \\psi_1 \\right > $ is an eigenvector of $ U_x $ with eigenvalue $ \\omega = e^{-\\frac{2\\pi i}{r}} $.\n",
    "\n",
    "<ins>*Notice how the order of $x$ modulo $N$ is encoded into the eigenvalue of $U_x$*</ins> !"
   ]
  },
  {
   "cell_type": "markdown",
   "id": "488d5ed9",
   "metadata": {},
   "source": [
    "## Generalization\n",
    "\n",
    "Next, we will prove that $ \\left | u_s \\right > = \\frac{1}{\\sqrt{r}} \\sum\\limits_{k=0}^{r-1} \\omega^{sk} \\left | x^k \\pmod{N} \\right > $ are eigenvectors of $U_x$ with the corresponding eigenvalues $\\omega^{-s}$, for $0 \\leq s \\leq r-1 $.\n",
    "\n",
    "We have:\n",
    "\n",
    "$$ \\begin{align} U_x \\left | u_s \\right > & = \\frac{1}{\\sqrt{r}} \\sum\\limits_{k=0}^{r-1} \\omega^{sk} \\left | x^{k +1} \\pmod{N} \\right > \\\\ & = \\frac{1}{\\sqrt{r}} \\sum\\limits_{k=0}^{r-1} \\omega^{s(k+1)} \\omega^{-s} \\left | x^{k +1} \\pmod{N} \\right > \\ \\ \\ \\ (\\text{since $x^r \\equiv 1 \\pmod{N}$}) \\\\ & = \\omega^{-s} \\left | u_s \\right > = e^{\\frac{2\\pi i s}{r}}\\left | u_s \\right > \\end{align} $$\n",
    "\n",
    "Now, we can use *phase estimation* to estimate $\\frac{s}{r}$."
   ]
  },
  {
   "cell_type": "markdown",
   "id": "19b03922",
   "metadata": {},
   "source": [
    "Recall that, for QPE we should prepare two registers, where the first contains $t$ qubits in state $ \\left | 0 \\right > $ and the second contains $ \\left | u_s \\right > $. However, the eigenvector $\\left | u_s \\right >$ contains the unknown variable $r$, so, how can we prepare the second register? We can do so by creating a superposition of the eigenvectors\n",
    "\n",
    "$$ \\frac{1}{\\sqrt{r}} \\sum\\limits_{s=0}^{r-1} \\left | u_s \\right > $$\n",
    "\n",
    "Let us work this out:\n",
    "\n",
    "$$ \\begin{align} \\frac{1}{\\sqrt{r}} \\sum\\limits_{s=0}^{r-1} \\left | u_s \\right > & = \\frac{1}{\\sqrt{r}} \\sum\\limits_{s=0}^{r-1} \\frac{1}{\\sqrt{r}} \\sum\\limits_{k=0}^{r-1} \\omega^{sk} \\left | x^k \\pmod{N} \\right > \\\\ & = \\frac{1}{r} \\sum\\limits_{s=0}^{r-1} \\sum\\limits_{k=0}^{r-1} \\omega^{sk} \\left | x^k \\pmod{N} \\right > \\end{align} $$\n",
    "\n",
    "Observe that for $k=0$, we have $ \\sum\\limits_{s=0}^{r-1} 1 = r $, so $ \\frac{1}{r} r \\left | 1 \\right > = \\left | 1 \\right > $, meaning that state $ \\left | 1 \\right > $ has an amplitude of $1$, in which case, for all other $k$, all amplitudes are equal to $0$. Hence, the superposition of eigenvectors $\\left | u_s \\right >$ is just the state $ \\left | 1 \\right > $:\n",
    "\n",
    "$$ \\frac{1}{\\sqrt{r}} \\sum\\limits_{s=0}^{r-1} \\left | u_s \\right > = \\left | 1 \\right > $$\n",
    "\n",
    "We just need to prepare the second register to that state !"
   ]
  },
  {
   "cell_type": "markdown",
   "id": "176fb291",
   "metadata": {},
   "source": [
    "## Setup\n",
    "\n",
    "Suppose that QPE algorithm takes state $ \\left | 0 \\right > \\left | u \\right > $ to state $ \\left | \\tilde{\\phi}_u \\right > \\left | u \\right > $. In this case, given input $ \\left | 0 \\right > \\otimes \\sum_u c_u \\left | u \\right > $, the algorithm's output will be $ \\sum_u c_u \\left | \\tilde{\\phi}_u \\right > \\left | u \\right > $. If $t$ is chosen as in the previous notebook, then it can be proven that the probability of measuring $\\phi_u$ accurate to $n$ bits is at least $\\left | c_u \\right |^2 (1-\\varepsilon)$. Combining this with the previous result, we can use the QPE algorithm with state $ \\left | 1 \\right > $ in the second register.\n",
    "\n",
    "The first register has $t$ qubits and the second register has $L$ qubits, where $t=2L+1+\\lceil{\\log(2+\\frac{1}{2\\varepsilon})\\rceil}$. The choice of $t$ will be clear later on.\n",
    "\n",
    "#### Step 1\n",
    "\n",
    "Initialization: $ \\left | \\psi_0 \\right > = \\frac{1}{\\sqrt{r}} \\sum\\limits_{s=0}^{r-1} \\left | 0 \\right > ^{\\otimes t} \\left | u_s \\right > = \\left | 0 \\right > ^{\\otimes t} \\left | 0 \\right > ^{\\otimes L-1} \\left | 1 \\right > $.\n",
    "\n",
    "#### Step 2\n",
    "\n",
    "Apply Hadamard and $ CU^{2^j} $ gates as in the QPE algorithm to obtain:\n",
    "\n",
    "$$ \\left | \\psi_1 \\right > = \\frac{1}{\\sqrt{r}}\\sum\\limits_{s=0}^{r-1}\\frac{1}{{2^{t/2}}}\\sum\\limits_{k=0}^{{2^t}-1}e^{\\frac{2{\\pi}i s k}{r}}\\left | k \\right > \\left | u_s \\right > $$\n",
    "\n",
    "#### Step 3\n",
    "\n",
    "Apply inverse-QFT to the first register and get:\n",
    "\n",
    "$$ \\frac{1}{\\sqrt{r}}\\sum\\limits_{s=0}^{r-1}\\left | {\\tilde{\\phi}} \\right > \\left | {u_s} \\right > $$"
   ]
  },
  {
   "cell_type": "markdown",
   "id": "3218f252",
   "metadata": {},
   "source": [
    "At the end of this procedure, for each $ s $ in the range $ 0, ..., r-1 $, we obtain an estimate of the phase $\\tilde{\\phi} = \\frac{s}{r}$ accurate to $ 2L+1 $ bits with probability at least $ \\frac{1-\\epsilon}{r} $."
   ]
  },
  {
   "cell_type": "markdown",
   "id": "ff757d72",
   "metadata": {},
   "source": [
    "Note that if $r$ is not a power of 2, then it can not be expressed in the form $\\frac{x}{N}$ for some $ x $ and $ N=2^t $."
   ]
  },
  {
   "cell_type": "markdown",
   "id": "12b0c423",
   "metadata": {},
   "source": [
    "Now the question is how to find $ r $ from the estimate of $ \\frac{s}{r} $? The answer is by using ***continued fractions***."
   ]
  },
  {
   "cell_type": "markdown",
   "id": "fa9cd5c3",
   "metadata": {},
   "source": [
    "## Continued Fractions\n",
    "\n",
    "Continued fractions is a representation of a real number by a sequence of (possibly infinite) integers by using expressions of the form:\n",
    "\n",
    "$\n",
    "\t[a_0,...a_n] = a_0 + \\frac{1}{a_1 + \\frac{1}{a_2 + \\frac{1}{...}}}.\n",
    "$"
   ]
  },
  {
   "cell_type": "markdown",
   "id": "6ba1f749",
   "metadata": {},
   "source": [
    "The rationals $a_0,a_0+\\frac{1}{a_1},a_0+\\frac{1}{a_1+\\frac{1}{a_2}},...$ are called the *convergents*. All convergents can be found using $O(L^3)$ operations where $ L $ is the number of bits needed to express $ m $ and $ n $ in $ \\frac{m}{n} $."
   ]
  },
  {
   "cell_type": "markdown",
   "id": "f8b9ac5c",
   "metadata": {},
   "source": [
    "### Example\n",
    "\n",
    "$\\frac{25}{11}$  can be expressed as $\\frac{25}{11}=2+\\frac{3}{11}$. Continuing like this,\n",
    "\n",
    "\\begin{align*}\n",
    "\t\t=2+\\frac{1}{3+\\frac{2}{3}} = 2+\\frac{1}{3+\\frac{1}{\\frac{3}{2}}}\n",
    "\t\t\\end{align*}\n",
    "        \n",
    "        \n",
    "\n",
    "The resulting expression will be \n",
    "\n",
    "\\begin{align*}\n",
    "2+\\frac{1}{3+\\frac{1}{1 + \\frac{1}{2}}}\n",
    "\\end{align*}\n",
    "\n",
    "with the continued fraction expression $[2,3,1,2]$. \n",
    "\n",
    "\n",
    "The convergents are $c_1=2$, $c_2=2 + \\frac{1}{3} = \\frac{7}{3} $, $c_3 = 2 + \\frac{1}{3 + \\frac{1}{1}} = \\frac{9}{4}$, $c_4 = 2+ \\frac{ 1}{3 + \\frac{1}{1 + \\frac{1}{2}}} = \\frac{25}{11}$"
   ]
  },
  {
   "cell_type": "markdown",
   "id": "6986681c",
   "metadata": {},
   "source": [
    "We will use two functions to calculate continued fractions expression and the convergents, which will be useful in the following tasks. \n",
    "\n",
    "- <i>contFrac</i> takes a parameter $N$ and returns the continued fractions expressions of $N$ as a list\n",
    "- <i>convergents</i> takes as paremeter the continued fractions expression and returns the list of convergents\n",
    "\n",
    "The code is taken from the *QSilver5|QGreece (April 2022)* event by *QWorld*."
   ]
  },
  {
   "cell_type": "markdown",
   "id": "9b68ab76",
   "metadata": {},
   "source": [
    "Run the following cell to load the functions."
   ]
  },
  {
   "cell_type": "code",
   "execution_count": 2,
   "id": "faf60424",
   "metadata": {},
   "outputs": [],
   "source": [
    "run ./include/helpers.py"
   ]
  },
  {
   "cell_type": "markdown",
   "id": "7bec7f27",
   "metadata": {},
   "source": [
    "Below we can see an example of usage of <i>contFrac</i> and <i>convergents</i> methods."
   ]
  },
  {
   "cell_type": "code",
   "execution_count": 3,
   "id": "2dc75d5f",
   "metadata": {},
   "outputs": [
    {
     "name": "stdout",
     "output_type": "stream",
     "text": [
      "[2, 3, 1, 2]\n"
     ]
    }
   ],
   "source": [
    "coefficients = contFrac(25/11)\n",
    "print(coefficients)"
   ]
  },
  {
   "cell_type": "markdown",
   "id": "6d48595f",
   "metadata": {},
   "source": [
    "Also, we can use the *convergents* method, which returns the convergents as a list of *Fraction* objects:"
   ]
  },
  {
   "cell_type": "code",
   "execution_count": 4,
   "id": "3f5a06e5",
   "metadata": {},
   "outputs": [
    {
     "name": "stdout",
     "output_type": "stream",
     "text": [
      "[Fraction(2, 1), Fraction(7, 3), Fraction(9, 4), Fraction(25, 11)]\n"
     ]
    }
   ],
   "source": [
    "cv = convergents(coefficients)\n",
    "print(cv)"
   ]
  },
  {
   "cell_type": "markdown",
   "id": "04def1b0",
   "metadata": {},
   "source": [
    "### Remark 1 (Choice of t)\n",
    "\n",
    "Following theorem guarantees that the continued fractions algorithm yields a good estimate for $\\phi$.\n",
    "\n",
    "<b>Theorem:</b> \tSuppose $\\frac{s}{r}$ is a rational number so that  $\\displaystyle\\left |\\frac{s}{r}-\\phi \\right | \\leq \\frac{1}{2r^2}$. Then $\\displaystyle \\frac{s}{r}$ is a convergent of the continued fraction for $\\phi$, and thus can be computed in $O(L^3)$ operations, using continued fraction algorithm."
   ]
  },
  {
   "cell_type": "markdown",
   "id": "e5716160",
   "metadata": {},
   "source": [
    "Remember that $\\phi$ is an approximation to $\\frac{s}{r}$ accurate to $2L+1$ bits due to our choice of $t$. Since $r\\leq N \\leq 2^L$, we get $\n",
    "\\left |\\frac{s}{r}-\\phi \\right | \\leq \\frac{1}{2^{2L+1}} \\leq \\frac{1}{2r^2}. $"
   ]
  },
  {
   "cell_type": "markdown",
   "id": "707583ef",
   "metadata": {},
   "source": [
    "Now according to the theorem, $\\frac{s}{r}$ is a convergent of the continued fraction for $\\phi$."
   ]
  },
  {
   "cell_type": "markdown",
   "id": "6ac3e6ae",
   "metadata": {},
   "source": [
    "Computing the convergents, we have candidate values for $s$ and $r$ and then we can test if $x^r=1 \\pmod{N}$. (Remember that we have more than one convergent and we compute each one of them, but not all of them will give us the correct $r$ value. So it might be the case that we fail in some cases)."
   ]
  },
  {
   "cell_type": "markdown",
   "id": "67cb7f61",
   "metadata": {},
   "source": [
    "### Remark 2 (Modular Exponentiation)\n",
    "\n",
    "In the phase estimation procedure, we have assumed that we were given operators $U$, $CU$ and their powers as blackbox functions. In reality, $ CU^{2^j} $ operators should be implemented efficiently to have a speedup against the classical algorithm. \n",
    "\n",
    "Note that to compute $x^{2^j}$, you don't need to perform $2^j$ multiplications. Once you obtain $x^2$, you can obtain $x^4$, $x^8$ so that you need only log$j$ multiplications. Nevertheless, multiplication involves implementation of addition and carries. \n",
    "\n",
    "The important thing is that it can be performed using $ O(L^3) $ gates by using a procedure known as modular exponentiation. This is a technical procedure and instead we will continue implementing $ CU^{2^j} $ operators with the built-in function of $Cirq$. More details about modular exponentiation can be found in https://arxiv.org/pdf/1207.0511.pdf. "
   ]
  },
  {
   "cell_type": "markdown",
   "id": "00017167",
   "metadata": {},
   "source": [
    "### Python Implementation (Cirq)\n",
    "\n",
    "Assume we are given a function named $U_x$ which implements $ U_x \\left | y \\right > \\rightarrow \\left | xy {\\pmod{N}} \\right >$ and returns its controlled version. Run the following cell to load the function."
   ]
  },
  {
   "cell_type": "code",
   "execution_count": 5,
   "id": "969e2698",
   "metadata": {},
   "outputs": [],
   "source": [
    "run ./include/operator.py"
   ]
  },
  {
   "cell_type": "markdown",
   "id": "8ffc8232",
   "metadata": {},
   "source": [
    "In order to use the function, we should pass $x$ and $N$ as parameter.\n",
    "\n",
    "<pre>CU=Ux(x,N)</pre>"
   ]
  },
  {
   "cell_type": "markdown",
   "id": "34bd3b3a",
   "metadata": {},
   "source": [
    "Let $x=3$ and $N=20$. We will use the functions we exported from the previous notebooks in order to find an estimate for $\\frac{s}{r}$. First, let us import the main modules:"
   ]
  },
  {
   "cell_type": "code",
   "execution_count": 6,
   "id": "4e7bb2fd",
   "metadata": {},
   "outputs": [],
   "source": [
    "import cirq\n",
    "from cirq import X, H, SWAP, CZPowGate\n",
    "from cirq.circuits import InsertStrategy"
   ]
  },
  {
   "cell_type": "markdown",
   "id": "07f02272",
   "metadata": {},
   "source": [
    "Then, we load the QPE function:"
   ]
  },
  {
   "cell_type": "code",
   "execution_count": 7,
   "id": "6f6ac54a",
   "metadata": {},
   "outputs": [],
   "source": [
    "run ./qpe.py"
   ]
  },
  {
   "cell_type": "markdown",
   "id": "c9473cc5",
   "metadata": {},
   "source": [
    "Now, we can write the code to find the order of $3 \\pmod{20}$."
   ]
  },
  {
   "cell_type": "code",
   "execution_count": 8,
   "id": "ec8649ae",
   "metadata": {},
   "outputs": [
    {
     "name": "stdout",
     "output_type": "stream",
     "text": [
      "Sample the circuit:\n",
      "Counter({0: 260, 4096: 254, 12288: 245, 8192: 241})\n"
     ]
    }
   ],
   "source": [
    "import matplotlib\n",
    "import cirq\n",
    "import math\n",
    "from cirq.circuits import InsertStrategy\n",
    "\n",
    "L = math.ceil(math.log2(20))\n",
    "e = 0.1\n",
    "num_t = 2*L+1+math.ceil(math.log2(2+1/(2*e)))\n",
    "\n",
    "# create a circuit\n",
    "circuit = cirq.Circuit()\n",
    "\n",
    "# assign the size of the registers\n",
    "t = num_t\n",
    "n = L\n",
    "\n",
    "# create control and target qubits\n",
    "control = [cirq.LineQubit(i) for i in range(1,t+1) ]\n",
    "target = [cirq.LineQubit(i) for i in range(t+1,t+1+n) ]\n",
    "circuit.append(X(target[n-1]))\n",
    "\n",
    "# create operator CU\n",
    "x = 3\n",
    "N = 20\n",
    "CU = Ux(x,N)\n",
    "\n",
    "# call phase estimation circuit\n",
    "qpe(t,control, target, circuit, CU)\n",
    "\n",
    "# measure the control register\n",
    "circuit.append(cirq.measure(*control, key='result'))\n",
    "\n",
    "# sample the circuit\n",
    "s = cirq.Simulator()\n",
    "print('Sample the circuit:')\n",
    "samples = s.run(circuit, repetitions=1000)\n",
    "\n",
    "# print a histogram of results\n",
    "results = samples.histogram(key='result')\n",
    "print(results)"
   ]
  },
  {
   "cell_type": "markdown",
   "id": "441a8f91",
   "metadata": {},
   "source": [
    "The outcomes are 0, 4096, 8192 and 12288.\n",
    "\n",
    "- From 0, we don't get any meaningful result.\n",
    "\n",
    "- Let's check $\\frac{4096}{2^{t}}$."
   ]
  },
  {
   "cell_type": "code",
   "execution_count": 9,
   "id": "81b780ce",
   "metadata": {},
   "outputs": [
    {
     "name": "stdout",
     "output_type": "stream",
     "text": [
      "[Fraction(0, 1), Fraction(1, 4)]\n"
     ]
    }
   ],
   "source": [
    "coefficients = contFrac(4096/2**t)\n",
    "cv = convergents(coefficients)\n",
    "print(cv)"
   ]
  },
  {
   "cell_type": "markdown",
   "id": "8adf1283",
   "metadata": {},
   "source": [
    "The candidate is $s'=1$ and $r'=4$. Indeed 4 is the answer. Let's check the other cases as well."
   ]
  },
  {
   "cell_type": "code",
   "execution_count": 10,
   "id": "5a3dfbff",
   "metadata": {},
   "outputs": [
    {
     "name": "stdout",
     "output_type": "stream",
     "text": [
      "[Fraction(0, 1), Fraction(1, 2)]\n"
     ]
    }
   ],
   "source": [
    "cf = contFrac(8192/2**t)\n",
    "cv = convergents(cf)\n",
    "print(cv)"
   ]
  },
  {
   "cell_type": "markdown",
   "id": "d420b805",
   "metadata": {},
   "source": [
    "From 8192, we can not get the correct result. The reason is that $s=2$ and $r=4$ which are not relatively prime and as a result we get $s'=1$ and $r'=2$."
   ]
  },
  {
   "cell_type": "code",
   "execution_count": 11,
   "id": "6b1f61ed",
   "metadata": {},
   "outputs": [
    {
     "name": "stdout",
     "output_type": "stream",
     "text": [
      "[Fraction(0, 1), Fraction(1, 1), Fraction(3, 4)]\n"
     ]
    }
   ],
   "source": [
    "cf = contFrac(12288/2**t)\n",
    "cv = convergents(cf)\n",
    "print(cv)"
   ]
  },
  {
   "cell_type": "markdown",
   "id": "f4a7e7c6",
   "metadata": {},
   "source": [
    "The candidate is $s'=3$ and $r'=4$. We get the correct result."
   ]
  },
  {
   "cell_type": "markdown",
   "id": "1035e765",
   "metadata": {},
   "source": [
    "## Summary & Remarks\n",
    "\t\n",
    "- Algorithm might produce a bad estimate to $\\frac{s}{r}$ which occurs with probability at most $ \\varepsilon $. This problem can be improved, but in the cost of increasing the size of the circuit.\n",
    "\n",
    "- As we have seen, $s$ and $r$ may have a common factor, and we may get $r'$ (which is a factor of $r$) instead of $r$. Nevertheless, the number of primes which are less than $r$ is at least $\\frac{r}{2}\\log r$. With a constant number of repetitions of the algorithm, one can obtain $s$ and $r$ which are relatively prime with high probability.\n",
    "\n",
    "- Overall, we have an algorithm which uses $O(L^3)$ gates, $ O(L) $ qubits and constant repetitions. \n",
    "\n",
    "    - Hadamard operation at the beginning requires $ O(L) $ gates\n",
    "    - $ O(L^2) $ gates are required by *inverse-QFT*\n",
    "    - $ O(L^3) $ gates are needed for modular exponentiation\n",
    "    - Continued fraction algorithm requires $ O(L^3) $ classical processing \n",
    "\n",
    "The best classical algorithm for order finding is of exponential time, while we have a polynomial size quantum circuit for order finding. "
   ]
  }
 ],
 "metadata": {
  "kernelspec": {
   "display_name": "quantum_env",
   "language": "python",
   "name": "quantum_env"
  },
  "language_info": {
   "codemirror_mode": {
    "name": "ipython",
    "version": 3
   },
   "file_extension": ".py",
   "mimetype": "text/x-python",
   "name": "python",
   "nbconvert_exporter": "python",
   "pygments_lexer": "ipython3",
   "version": "3.8.10"
  }
 },
 "nbformat": 4,
 "nbformat_minor": 5
}
